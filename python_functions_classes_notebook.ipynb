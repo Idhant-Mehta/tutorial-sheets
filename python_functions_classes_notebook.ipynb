
{
  "cells": [
   {
    "cell_type": "code",
    "execution_count": null,
    "id": "diff_with_17",
    "metadata": {},
    "outputs": [],
    "source": [
     "# 1. Difference Between a Given Number and 17\n",
     "def diff_with_17(n):\n",
     "    if n > 17:\n",
     "        return 2 * abs(n - 17)\n",
     "    else:\n",
     "        return 17 - n\n",
     "\n",
     "print(diff_with_17(22))  # Output: 10\n",
     "print(diff_with_17(14))  # Output: 3\n"
    ]
   },
   {
    "cell_type": "code",
    "execution_count": null,
    "id": "test_range",
    "metadata": {},
    "outputs": [],
    "source": [
     "# 2. Test Whether a Number is Within 100 to 1000 or 2000\n",
     "def test_range(n):\n",
     "    if 100 <= n <= 1000 or n == 2000:\n",
     "        return True\n",
     "    else:\n",
     "        return False\n",
     "\n",
     "print(test_range(500))   # Output: True\n",
     "print(test_range(1500))  # Output: False\n",
     "print(test_range(2000))  # Output: True\n"
    ]
   },
   {
    "cell_type": "code",
    "execution_count": null,
    "id": "reverse_string",
    "metadata": {},
    "outputs": [],
    "source": [
     "# 3. Reverse a String\n",
     "def reverse_string(s):\n",
     "    return s[::-1]\n",
     "\n",
     "print(reverse_string(\"hello\"))  # Output: \"olleh\"\n"
    ]
   },
   {
    "cell_type": "code",
    "execution_count": null,
    "id": "count_upper_lower",
    "metadata": {},
    "outputs": [],
    "source": [
     "# 4. Count the Number of Upper and Lower Case Letters in a String\n",
     "def count_upper_lower(s):\n",
     "    upper_count = 0\n",
     "    lower_count = 0\n",
     "    for char in s:\n",
     "        if char.isupper():\n",
     "            upper_count += 1\n",
     "        elif char.islower():\n",
     "            lower_count += 1\n",
     "    print(\"Upper case letters:\", upper_count)\n",
     "    print(\"Lower case letters:\", lower_count)\n",
     "\n",
     "count_upper_lower(\"Hello World\")\n",
     "# Output: Upper case letters: 2\n",
     "#         Lower case letters: 8\n"
    ]
   },
   {
    "cell_type": "code",
    "execution_count": null,
    "id": "distinct_elements",
    "metadata": {},
    "outputs": [],
    "source": [
     "# 5. Return a List with Distinct Elements\n",
     "def distinct_elements(lst):\n",
     "    return list(set(lst))\n",
     "\n",
     "print(distinct_elements([1, 2, 2, 3, 4, 4, 5]))  # Output: [1, 2, 3, 4, 5]\n"
    ]
   },
   {
    "cell_type": "code",
    "execution_count": null,
    "id": "even_numbers",
    "metadata": {},
    "outputs": [],
    "source": [
     "# 6. Print Even Numbers from a Given List\n",
     "def even_numbers(lst):\n",
     "    return [num for num in lst if num % 2 == 0]\n",
     "\n",
     "sample_list = [1, 2, 3, 4, 5, 6, 7, 8, 9]\n",
     "print(even_numbers(sample_list))  # Output: [2, 4, 6, 8]\n"
    ]
   },
   {
    "cell_type": "code",
    "execution_count": null,
    "id": "outer_function",
    "metadata": {},
    "outputs": [],
    "source": [
     "# 7. Access a Function Inside a Function\n",
     "def outer_function(text):\n",
     "    def inner_function():\n",
     "        print(text)\n",
     "    inner_function()\n",
     "\n",
     "outer_function(\"Hello from inner function!\")  # Output: Hello from inner function!\n"
    ]
   },
   {
    "cell_type": "code",
    "execution_count": null,
    "id": "student_function",
    "metadata": {},
    "outputs": [],
    "source": [
     "# 8. Function `student()` with Function Attributes\n",
     "def student(name, age, course):\n",
     "    student.name = name\n",
     "    student.age = age\n",
     "    student.course = course\n",
     "    return student\n",
     "\n",
     "# Function attributes\n",
     "student(\"Alice\", 20, \"Math\")\n",
     "print(\"Name:\", student.name)\n",
     "print(\"Age:\", student.age)\n",
     "print(\"Course:\", student.course)\n"
    ]
   },
   {
    "cell_type": "code",
    "execution_count": null,
    "id": "Student_class",
    "metadata": {},
    "outputs": [],
    "source": [
     "# 9. Python Class `Student` with Display Method\n",
     "class Student:\n",
     "    def __init__(self, student_id, student_name):\n",
     "        self.student_id = student_id\n",
     "        self.student_name = student_name\n",
     "        self.student_class = None\n",
     "    \n",
     "    def display(self):\n",
     "        print(f\"ID: {self.student_id}\")\n",
     "        print(f\"Name: {self.student_name}\")\n",
     "        print(f\"Class: {self.student_class}\")\n",
     "\n",
     "student1 = Student(1, \"John\")\n",
     "student1.student_class = \"12th Grade\"\n",
     "student1.display()\n"
    ]
   },
   {
    "cell_type": "code",
    "execution_count": null,
    "id": "circle_class",
    "metadata": {},
    "outputs": [],
    "source": [
     "# 11. Python Class `Circle` to Compute Area and Perimeter\n",
     "import math\n",
     "class Circle:\n",
     "    def __init__(self, radius):\n",
     "        self.radius = radius\n",
     "    \n",
     "    def area(self):\n",
     "        return math.pi * self.radius ** 2\n",
     "    \n",
     "    def perimeter(self):\n",
     "        return 2 * math.pi * self.radius\n",
     "\n",
     "circle1 = Circle(5)\n",
     "print(f\"Area: {circle1.area()}\")\n",
     "print(f\"Perimeter: {circle1.perimeter()}\")\n"
    ]
   }
  ],
  "metadata": {
   "kernelspec": {
    "display_name": "Python 3",
    "language": "python",
    "name": "python3"
   },
   "language_info": {
    "codemirror_mode": {
     "name": "ipython",
     "version": 3
    },
    "file_extension": ".py",
    "mimetype": "text/x-python",
    "name": "python",
    "nbconvert_exporter": "python",
    "version": "3.8.5"
   }
  },
  "nbformat": 4,
  "nbformat_minor": 5
}
