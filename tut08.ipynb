{
 "cells": [
  {
   "metadata": {
    "ExecuteTime": {
     "end_time": "2024-11-20T09:15:32.748905Z",
     "start_time": "2024-11-20T09:15:32.678371Z"
    }
   },
   "cell_type": "code",
   "source": [
    "# #Question 1.\n",
    "# You are tasked with developing a Python program that performs basic calculations with points\n",
    "# in a 2D plane. Using the Point class in Python from the given package, write code to complete\n",
    "# the following tasks:\n",
    "# 1. Distance Calculation: Given two points, A(x1,y1) and B(x2,y2), calculate and print\n",
    "# the distance between them.\n",
    "# 2. Midpoint Calculation: Calculate and print the midpoint between the two points A and\n",
    "# B.\n",
    "# 3. Line Equation: Find the equation of the line that passes through points AAA and BBB.\n",
    "# The equation should be in the form y=mx+c, where mmm is the slope, and c is the y intercept.\n",
    "# 4. Reflection of Point: Given a third point C(x3,y3), calculate and print the coordinates\n",
    "# of the reflection of point C over the line that passes through points A and B. #\n",
    "import math\n",
    "\n",
    "class Point:\n",
    "    def __init__(self, x, y):\n",
    "        self.x = x\n",
    "        self.y = y\n",
    "\n",
    "    def distance(self, other):\n",
    "        return math.sqrt((self.x - other.x) ** 2 + (self.y - other.y) ** 2)\n",
    "\n",
    "    def midpoint(self, other):\n",
    "        return Point((self.x + other.x) / 2, (self.y + other.y) / 2)\n",
    "\n",
    "    def line_equation(self, other):\n",
    "        m = (other.y - self.y) / (other.x - self.x) if (other.x - self.x) != 0 else float('inf')\n",
    "        c = self.y - m * self.x\n",
    "        return m, c\n",
    "\n",
    "    def reflect(self, other, point_c):\n",
    "        m, c = self.line_equation(other)\n",
    "        if m == float('inf'):\n",
    "            return Point(self.x, 2 * point_c.y - point_c.y)\n",
    "        else:\n",
    "            # Calculate reflection using line equation\n",
    "            x_ref = point_c.x\n",
    "            y_ref = m * x_ref + c\n",
    "            return Point(2 * x_ref - point_c.x, 2 * y_ref - point_c.y)\n",
    "\n",
    "A = Point(1, 2)\n",
    "B = Point(4, 6)\n",
    "C = Point(3, 5)\n",
    "\n",
    "print(\"Distance:\", A.distance(B))\n",
    "midpoint = A.midpoint(B)\n",
    "print(\"Midpoint:\", (midpoint.x, midpoint.y))\n",
    "m, c = A.line_equation(B)\n",
    "print(\"Line Equation: y = {}x + {}\".format(m, c))\n",
    "reflection = A.reflect(B, C)\n",
    "print(\"Reflection of C over line AB:\", (reflection.x, reflection.y))"
   ],
   "id": "2b94e2b453f5d973",
   "outputs": [
    {
     "name": "stdout",
     "output_type": "stream",
     "text": [
      "Distance: 5.0\n",
      "Midpoint: (2.5, 4.0)\n",
      "Line Equation: y = 1.3333333333333333x + 0.6666666666666667\n",
      "Reflection of C over line AB: (3, 4.333333333333334)\n"
     ]
    }
   ],
   "execution_count": 1
  },
  {
   "metadata": {
    "ExecuteTime": {
     "end_time": "2024-11-20T09:17:49.352003Z",
     "start_time": "2024-11-20T09:17:49.322984Z"
    }
   },
   "cell_type": "code",
   "source": [
    "# Question 2:\n",
    "# You are given three 2D vectors A⃗, B⃗, and C⃗ in the plane. Write a Python program to perform\n",
    "# the following tasks using vector operations and using given package:\n",
    "# 1. Vector Addition: Compute and print the resultant vector R⃗=A⃗+B⃗+C⃗.\n",
    "# 2. Magnitude Calculation: Calculate and print the magnitude of each vector A⃗, B⃗, and\n",
    "# C⃗.\n",
    "# 3. Dot Product: Calculate and print the dot product between each pair of vectors: A⃗⋅B⃗,\n",
    "# A⃗⋅C⃗ and B⃗⋅C⃗.\n",
    "# 4. Angle Between Vectors: Calculate and print the angle (in degrees) between each pair\n",
    "# of vectors: A⃗ and B⃗, A⃗ and C⃗, B⃗ and C⃗.\n",
    "# 5. Projection of Vector: Calculate and print the projection of vector A⃗ onto vector B⃗. \n",
    "\n",
    "import math\n",
    "\n",
    "class Vector:\n",
    "    def __init__(self, x, y):\n",
    "        self.x = x\n",
    "        self.y = y\n",
    "\n",
    "    def magnitude(self):\n",
    "        return math.sqrt(self.x ** 2 + self.y ** 2)\n",
    "\n",
    "    def dot(self, other):\n",
    "        return self.x * other.x + self.y * other.y\n",
    "\n",
    "    def angle(self, other):\n",
    "        dot_product = self.dot(other)\n",
    "        magnitude_product = self.magnitude() * other.magnitude()\n",
    "        if magnitude_product == 0:\n",
    "            return 0  # Avoid division by zero\n",
    "        return math.degrees(math.acos(dot_product / magnitude_product))\n",
    "\n",
    "    def projection(self, other):\n",
    "        scalar = self.dot(other) / other.dot(other) if other.dot(other) != 0 else 0\n",
    "        return Vector(scalar * other.x, scalar * other.y)\n",
    "\n",
    "    def __str__(self):\n",
    "        return f\"Vector({self.x}, {self.y})\"\n",
    "\n",
    "# Example usage\n",
    "A = Vector(1, 2)\n",
    "B = Vector(3, 4)\n",
    "C = Vector(5, 6)\n",
    "\n",
    "resultant = Vector(A.x + B.x + C.x, A.y + B.y + C.y)\n",
    "print(\"Resultant Vector:\", resultant)\n",
    "print(\"Magnitude of A:\", A.magnitude())\n",
    "print(\"Magnitude of B:\", B.magnitude())\n",
    "print(\"Magnitude of C:\", C.magnitude())\n",
    "print(\"Dot Product A.B:\", A.dot(B))\n",
    "print(\"Angle A.B:\", A.angle(B))\n",
    "projection = A.projection(B)\n",
    "print(\"Projection of A onto B:\", projection)"
   ],
   "id": "7b07fbca747f78cc",
   "outputs": [
    {
     "name": "stdout",
     "output_type": "stream",
     "text": [
      "Resultant Vector: Vector(9, 12)\n",
      "Magnitude of A: 2.23606797749979\n",
      "Magnitude of B: 5.0\n",
      "Magnitude of C: 7.810249675906654\n",
      "Dot Product A.B: 11\n",
      "Angle A.B: 10.304846468766044\n",
      "Projection of A onto B: Vector(1.32, 1.76)\n"
     ]
    }
   ],
   "execution_count": 3
  },
  {
   "metadata": {
    "ExecuteTime": {
     "end_time": "2024-11-20T09:17:54.851133Z",
     "start_time": "2024-11-20T09:17:54.809871Z"
    }
   },
   "cell_type": "code",
   "source": [
    "# Question 3:\n",
    "# You are given two points, S(x1,y1) (start point) and E(x2,y2) (end point), that form a segment\n",
    "# SE in a 2D plane. Additionally, you are given a third point, P(x3,y3), which is somewhere in\n",
    "# the plane. Write a Python program to complete the following tasks:\n",
    "# 1. Distance of Segment: Calculate and print the length of the segment SE.\n",
    "# 2. Closest Point on Segment: Determine and print the coordinates of the point on\n",
    "# segment SE that is closest to point P.\n",
    "# 3. Distance from Point to Segment: Calculate and print the distance from point P to the\n",
    "# closest point on segment SE. \n",
    "class Segment:\n",
    "    def __init__(self, start, end):\n",
    "        self.start = start\n",
    "        self.end = end\n",
    "\n",
    "    def length(self):\n",
    "        return self.start.distance(self.end)\n",
    "\n",
    "    def closest_point(self, point):\n",
    "        segment_length = self.length()\n",
    "        if segment_length == 0:\n",
    "            return self.start\n",
    "\n",
    "        t = ((point.x - self.start.x) * (self.end.x - self.start.x) + \n",
    "              (point.y - self.start.y) * (self.end.y - self.start.y)) / (segment_length ** 2)\n",
    "\n",
    "        if t < 0:\n",
    "            return self.start\n",
    "        elif t > 1:\n",
    "            return self.end\n",
    "        else:\n",
    "            return Point(self.start.x + t * (self.end.x - self.start.x),\n",
    "                         self.start.y + t * (self.end.y - self.start.y))\n",
    "\n",
    "# Example usage\n",
    "S = Point(0, 0)\n",
    "E = Point(4, 4)\n",
    "P = Point(2, 3)\n",
    "\n",
    "segment = Segment(S, E)\n",
    "print(\"Length of Segment SE:\", segment.length())\n",
    "closest_point = segment.closest_point(P)\n",
    "print(\"Closest Point on Segment SE:\", (closest_point.x, closest_point.y))\n",
    "print(\"Distance from P to Segment SE:\", P.distance(closest_point))"
   ],
   "id": "a0d308f3f44228",
   "outputs": [
    {
     "name": "stdout",
     "output_type": "stream",
     "text": [
      "Length of Segment SE: 5.656854249492381\n",
      "Closest Point on Segment SE: (2.4999999999999996, 2.4999999999999996)\n",
      "Distance from P to Segment SE: 0.7071067811865476\n"
     ]
    }
   ],
   "execution_count": 4
  },
  {
   "metadata": {
    "ExecuteTime": {
     "end_time": "2024-11-20T09:18:21.494205Z",
     "start_time": "2024-11-20T09:18:21.483204Z"
    }
   },
   "cell_type": "code",
   "source": [
    "def line_intersection(a1, b1, c1, a2, b2, c2):\n",
    "    determinant = a1 * b2"
   ],
   "id": "3290fef455c69eb6",
   "outputs": [],
   "execution_count": 5
  },
  {
   "metadata": {
    "ExecuteTime": {
     "end_time": "2024-11-20T09:21:00.165760Z",
     "start_time": "2024-11-20T09:21:00.139655Z"
    }
   },
   "cell_type": "code",
   "source": [
    "# Question 3:\n",
    "# You are given two points, S(x1,y1) (start point) and E(x2,y2) (end point), that form a segment\n",
    "# SE in a 2D plane. Additionally, you are given a third point, P(x3,y3), which is somewhere in\n",
    "# the plane. Write a Python program to complete the following tasks:\n",
    "# 1. Distance of Segment: Calculate and print the length of the segment SE.\n",
    "# 2. Closest Point on Segment: Determine and print the coordinates of the point on\n",
    "# segment SE that is closest to point P.\n",
    "# 3. Distance from Point to Segment: Calculate and print the distance from point P to the\n",
    "# closest point on segment SE. \n",
    "import math \n",
    "\n",
    "class Vector:\n",
    "    def __init__(self, x, y):\n",
    "        self.x = x\n",
    "        self.y = y\n",
    "\n",
    "    def magnitude(self):\n",
    "        return math.sqrt(self.x ** 2 + self.y ** 2)\n",
    "\n",
    "    def dot(self, other):\n",
    "        return self.x * other.x + self.y * other.y\n",
    "\n",
    "    def angle(self, other):\n",
    "        dot_product = self.dot(other)\n",
    "        magnitude_product = self.magnitude() * other.magnitude()\n",
    "        if magnitude_product == 0:\n",
    "            return 0  # Avoid division by zero\n",
    "        return math.degrees(math.acos(dot_product / magnitude_product))\n",
    "\n",
    "    def projection(self, other):\n",
    "        scalar = self.dot(other) / other.dot(other) if other.dot(other) != 0 else 0\n",
    "        return Vector(scalar * other.x, scalar * other.y)\n",
    "\n",
    "    def __str__(self):\n",
    "        return f\"Vector({self.x}, {self.y})\"\n",
    "\n",
    "# Example usage\n",
    "A = Vector(1, 2)\n",
    "B = Vector(3, 4)\n",
    "C = Vector(5, 6)\n",
    "\n",
    "resultant = Vector(A.x + B.x + C.x, A.y + B.y + C.y)\n",
    "print(\"Resultant Vector:\", resultant)\n",
    "print(\"Magnitude of A:\", A.magnitude())\n",
    "print(\"Magnitude of B:\", B.magnitude())\n",
    "print(\"Magnitude of C:\", C.magnitude())\n",
    "print(\"Dot Product A.B:\", A.dot(B))\n",
    "print(\"Angle A.B:\", A.angle(B))\n",
    "projection = A.projection(B)\n",
    "print(\"Projection of A onto B:\", projection)"
   ],
   "id": "23b10cdbeae3bf78",
   "outputs": [
    {
     "name": "stdout",
     "output_type": "stream",
     "text": [
      "Resultant Vector: Vector(9, 12)\n",
      "Magnitude of A: 2.23606797749979\n",
      "Magnitude of B: 5.0\n",
      "Magnitude of C: 7.810249675906654\n",
      "Dot Product A.B: 11\n",
      "Angle A.B: 10.304846468766044\n",
      "Projection of A onto B: Vector(1.32, 1.76)\n"
     ]
    }
   ],
   "execution_count": 7
  },
  {
   "metadata": {
    "ExecuteTime": {
     "end_time": "2024-11-20T09:35:32.355211Z",
     "start_time": "2024-11-20T09:35:32.313206Z"
    }
   },
   "cell_type": "code",
   "source": [
    "# Question 4:\n",
    "# You are given two lines L1 and L2 in a 2D plane, defined by the following equations:\n",
    "#  Line L1: a1x+b1y=c1\n",
    "#  Line L2: a2x+b2y=c2\n",
    "# Write a Python program to determine if the lines intersect, and if so, find and print the point\n",
    "# of intersection (x,y).\n",
    "# 1. If the lines intersect, print the coordinates of the intersecƟon point (x,y).\n",
    "# 2. If the lines are parallel or coincident, print \"Lines are parallel or coincident.\" \n",
    "import math  \n",
    "\n",
    "class Vector:\n",
    "    def __init__(self, x, y):\n",
    "        self.x = x\n",
    "        self.y = y\n",
    "\n",
    "    def magnitude(self):\n",
    "        \"\"\"Return the magnitude (length) of the vector.\"\"\"\n",
    "        return math.sqrt(self.x ** 2 + self.y ** 2)\n",
    "\n",
    "    def dot(self, other):\n",
    "        \"\"\"Return the dot product of this vector and another vector.\"\"\"\n",
    "        return self.x * other.x + self.y * other.y\n",
    "\n",
    "    def angle(self, other):\n",
    "        \"\"\"Return the angle in degrees between this vector and another vector.\"\"\"\n",
    "        dot_product = self.dot(other)\n",
    "        magnitude_product = self.magnitude() * other.magnitude()\n",
    "        if magnitude_product == 0:\n",
    "            raise ValueError(\"Cannot calculate angle with a zero magnitude vector.\")\n",
    "        return math.degrees(math.acos(dot_product / magnitude_product))\n",
    "\n",
    "    def projection(self, other):\n",
    "        \"\"\"Return the projection of this vector onto another vector.\"\"\"\n",
    "        if other.dot(other) == 0:\n",
    "            raise ValueError(\"Cannot project onto a zero magnitude vector.\")\n",
    "        scalar = self.dot(other) / other.dot(other)\n",
    "        return Vector(scalar * other.x, scalar * other.y)\n",
    "\n",
    "    def __str__(self):\n",
    "        \"\"\"Return a string representation of the vector.\"\"\"\n",
    "        return f\"Vector({self.x}, {self.y})\"\n",
    "\n",
    "# Example usage\n",
    "A = Vector(1, 2)\n",
    "B = Vector(3, 4)\n",
    "C = Vector(5, 6)\n",
    "\n",
    "resultant = Vector(A.x + B.x + C.x, A.y + B.y + C.y)\n",
    "print(\"Resultant Vector:\", resultant)\n",
    "print(\"Magnitude of A:\", A.magnitude())\n",
    "print(\"Magnitude of B:\", B.magnitude())\n",
    "print(\"Magnitude of C:\", C.magnitude())\n",
    "print(\"Dot Product A.B:\", A.dot(B))\n",
    "print(\"Angle A.B:\", A.angle(B))\n",
    "\n",
    "try:\n",
    "    projection = A.projection(B)\n",
    "    print(\"Projection of A onto B:\", projection)\n",
    "except ValueError as e:\n",
    "    print(e)"
   ],
   "id": "4521f42e57a41517",
   "outputs": [
    {
     "name": "stdout",
     "output_type": "stream",
     "text": [
      "Resultant Vector: Vector(9, 12)\n",
      "Magnitude of A: 2.23606797749979\n",
      "Magnitude of B: 5.0\n",
      "Magnitude of C: 7.810249675906654\n",
      "Dot Product A.B: 11\n",
      "Angle A.B: 10.304846468766044\n",
      "Projection of A onto B: Vector(1.32, 1.76)\n"
     ]
    }
   ],
   "execution_count": 8
  }
 ],
 "metadata": {
  "kernelspec": {
   "display_name": "Python 3",
   "language": "python",
   "name": "python3"
  },
  "language_info": {
   "codemirror_mode": {
    "name": "ipython",
    "version": 2
   },
   "file_extension": ".py",
   "mimetype": "text/x-python",
   "name": "python",
   "nbconvert_exporter": "python",
   "pygments_lexer": "ipython2",
   "version": "2.7.6"
  }
 },
 "nbformat": 4,
 "nbformat_minor": 5
}
