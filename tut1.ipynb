{
  "nbformat": 4,
  "nbformat_minor": 0,
  "metadata": {
    "colab": {
      "provenance": [],
      "authorship_tag": "ABX9TyP/JAh/DH0W3qlGBcBBy+VX",
      "include_colab_link": true
    },
    "kernelspec": {
      "name": "python3",
      "display_name": "Python 3"
    },
    "language_info": {
      "name": "python"
    }
  },
  "cells": [
    {
      "cell_type": "markdown",
      "metadata": {
        "id": "view-in-github",
        "colab_type": "text"
      },
      "source": [
        "<a href=\"https://colab.research.google.com/github/Idhant-Mehta/tutorial-sheets/blob/main/tut1.ipynb\" target=\"_parent\"><img src=\"https://colab.research.google.com/assets/colab-badge.svg\" alt=\"Open In Colab\"/></a>"
      ]
    },
    {
      "cell_type": "code",
      "execution_count": null,
      "metadata": {
        "id": "NQMydNqgy5GR"
      },
      "outputs": [],
      "source": [
        "# #1. Write a Python program to print the following string in a specific format (see the\n",
        "# output). Sample String : \"Twinkle, twinkle, little star, How I wonder what you are! Up above\n",
        "print(\"Twinkle, twinkle, little star,\")\n",
        "print(\"\\tHow I wonder what you are!\")\n",
        "print(\"\\t\\tUp above the world so high,\")\n",
        "print(\"\\t\\tLike a diamond in the sky.\")\n",
        "print(\"Twinkle, twinkle, little star,\")\n",
        "print(\"\\tHow I wonder what you are\")\n"
      ]
    },
    {
      "cell_type": "code",
      "source": [
        "# 2. Write a Python program that accepts the user's first and last name and prints them in\n",
        "# reverse order with a space between them.\n",
        "first_name = input(\"Enter your first name: \")\n",
        "last_name = input(\"Enter your last name: \")\n",
        "print(last_name, first_name)\n"
      ],
      "metadata": {
        "id": "Qg2CoecAzRLz"
      },
      "execution_count": null,
      "outputs": []
    },
    {
      "cell_type": "code",
      "source": [
        "# 3. Write a Python program that calculates the area of a circle based on the radius entered\n",
        "# by the user.\n",
        "import math\n",
        "radius = float(input(\"Enter the radius of the circle: \"))\n",
        "area = math.pi * radius ** 2\n",
        "print(\"Area of the circle is:\", area)\n"
      ],
      "metadata": {
        "id": "ngxRN7m6zY9T"
      },
      "execution_count": null,
      "outputs": []
    },
    {
      "cell_type": "code",
      "source": [
        "# 4. Write a Python program to display the first and last colors from the following list.\n",
        "# color_list = [\"Red\",\"Green\",\"White\" ,\"Black\"]\n",
        "color_list = [\"Red\", \"Green\", \"White\", \"Black\"]\n",
        "print(\"First color is:\", color_list[0])\n",
        "print(\"Last color is:\", color_list[-1])\n"
      ],
      "metadata": {
        "id": "ihtBU5Vr0IF1"
      },
      "execution_count": null,
      "outputs": []
    },
    {
      "cell_type": "code",
      "source": [
        "n = input(\"Enter an integer: \")\n",
        "n1 = int(n)\n",
        "n2 = int(n * 2)\n",
        "n3 = int(n * 3)\n",
        "print(n1 + n2 + n3)\n"
      ],
      "metadata": {
        "id": "ScMW1M_00KoY"
      },
      "execution_count": null,
      "outputs": []
    },
    {
      "cell_type": "code",
      "source": [
        "numbers = input(\"Enter comma-separated numbers: \")\n",
        "numbers_list = numbers.split(\",\")\n",
        "numbers_tuple = tuple(numbers_list)\n",
        "print(\"List:\", numbers_list)\n",
        "print(\"Tuple:\", numbers_tuple)\n"
      ],
      "metadata": {
        "id": "uMjx1fVE0Pp4"
      },
      "execution_count": null,
      "outputs": []
    },
    {
      "cell_type": "code",
      "source": [
        "celsius = float(input(\"Enter temperature in Celsius: \"))\n",
        "fahrenheit = (celsius * 9/5) + 32\n",
        "print(\"Temperature in Fahrenheit is:\", fahrenheit)\n"
      ],
      "metadata": {
        "id": "hFNKlWBP0OAt"
      },
      "execution_count": null,
      "outputs": []
    },
    {
      "cell_type": "code",
      "source": [
        "num1 = int(input(\"Enter first number: \"))\n",
        "num2 = int(input(\"Enter second number: \"))\n",
        "num1, num2 = num2, num1\n",
        "num1 += 1  # Increment one variable\n",
        "print(\"After swapping, first number is:\", num1)\n",
        "print(\"After swapping, second number is:\", num2)\n"
      ],
      "metadata": {
        "id": "d0yIM4vJ0q2i"
      },
      "execution_count": null,
      "outputs": []
    },
    {
      "cell_type": "code",
      "source": [
        "num = int(input(\"Enter a number: \"))\n",
        "if num % 2 == 0:\n",
        "    print(f\"{num} is even\")\n",
        "else:\n",
        "    print(f\"{num} is odd\")\n"
      ],
      "metadata": {
        "id": "nEITSVOT0sEM"
      },
      "execution_count": null,
      "outputs": []
    },
    {
      "cell_type": "code",
      "source": [
        "year = int(input(\"Enter a year: \"))\n",
        "if (year % 4 == 0 and year % 100 != 0) or (year % 400 == 0):\n",
        "    print(f\"{year} is a leap year\")\n",
        "else:\n",
        "    print(f\"{year} is not a leap year\")\n"
      ],
      "metadata": {
        "id": "km9JPZfq0uWy"
      },
      "execution_count": null,
      "outputs": []
    },
    {
      "cell_type": "code",
      "source": [
        "import math\n",
        "x1, y1 = map(int, input(\"Enter coordinates of first point (x1, y1): \").split())\n",
        "x2, y2 = map(int, input(\"Enter coordinates of second point (x2, y2): \").split())\n",
        "distance = math.sqrt((x2 - x1)**2 + (y2 - y1)**2)\n",
        "print(f\"Euclidean distance between points is: {distance}\")\n"
      ],
      "metadata": {
        "id": "DsTRwv8s0x7m"
      },
      "execution_count": null,
      "outputs": []
    },
    {
      "cell_type": "code",
      "source": [
        "angle1 = float(input(\"Enter first angle: \"))\n",
        "angle2 = float(input(\"Enter second angle: \"))\n",
        "angle3 = float(input(\"Enter third angle: \"))\n",
        "if angle1 + angle2 + angle3 == 180:\n",
        "    print(\"The angles form a valid triangle\")\n",
        "else:\n",
        "    print(\"The angles do not form a valid triangle\")\n"
      ],
      "metadata": {
        "id": "b-UX8Vah01SZ"
      },
      "execution_count": null,
      "outputs": []
    },
    {
      "cell_type": "code",
      "source": [
        "P = float(input(\"Enter principal amount: \"))\n",
        "R = float(input(\"Enter rate of interest: \"))\n",
        "T = float(input(\"Enter time (years): \"))\n",
        "CI = P * (1 + R / 100) ** T - P\n",
        "print(f\"Compound Interest is: {CI}\")\n"
      ],
      "metadata": {
        "id": "TYBR_dm8073Q"
      },
      "execution_count": null,
      "outputs": []
    }
  ]
}